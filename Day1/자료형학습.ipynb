{
 "cells": [
  {
   "cell_type": "markdown",
   "metadata": {},
   "source": [
    "## 자료형학습\n",
    "\n",
    "1. None형 - 무엇인지 알 수 없음"
   ]
  },
  {
   "cell_type": "code",
   "execution_count": 3,
   "metadata": {},
   "outputs": [
    {
     "name": "stdout",
     "output_type": "stream",
     "text": [
      "False\n"
     ]
    }
   ],
   "source": [
    "# None (특수형태)\n",
    "print(0 == None) "
   ]
  },
  {
   "cell_type": "markdown",
   "metadata": {},
   "source": [
    "2. 숫자형 - 가장 많이 쓰이는 자료형"
   ]
  },
  {
   "cell_type": "code",
   "execution_count": 6,
   "metadata": {},
   "outputs": [
    {
     "name": "stdout",
     "output_type": "stream",
     "text": [
      "16\n",
      "3.16\n"
     ]
    }
   ],
   "source": [
    "# 숫자형\n",
    "\n",
    "int_val = 16\n",
    "print(int_val)\n",
    "float_val = 3.16\n",
    "print(float_val)\n",
    "\n",
    "# 2진수\n",
    "bin_val = \n",
    "\n"
   ]
  },
  {
   "cell_type": "markdown",
   "metadata": {},
   "source": [
    "3. 문자열형 - 출력을 위해 사용"
   ]
  },
  {
   "cell_type": "code",
   "execution_count": 2,
   "metadata": {},
   "outputs": [
    {
     "name": "stdout",
     "output_type": "stream",
     "text": [
      "Life is short, \n",
      " You need Python\n"
     ]
    }
   ],
   "source": [
    "#문자열형\n",
    "bruce_eckel = 'Life is short, \\n You need Python'\n",
    "print(bruce_eckel)\n"
   ]
  },
  {
   "cell_type": "markdown",
   "metadata": {},
   "source": [
    "4. 불린형(Boolean)"
   ]
  },
  {
   "cell_type": "code",
   "execution_count": 501,
   "metadata": {},
   "outputs": [
    {
     "name": "stdout",
     "output_type": "stream",
     "text": [
      "False\n",
      "True\n",
      "<class 'bool'>\n"
     ]
    }
   ],
   "source": [
    "#불린 \n",
    "print(1 == 1*2)\n",
    "a = 10\n",
    "print(10 == 2 *5)\n",
    "print(type(False))\n"
   ]
  },
  {
   "cell_type": "code",
   "execution_count": 502,
   "metadata": {},
   "outputs": [
    {
     "name": "stdout",
     "output_type": "stream",
     "text": [
      "True\n",
      "True\n",
      "True\n"
     ]
    }
   ],
   "source": [
    "#불린 계속\n",
    "bl_true = True\n",
    "bl_false = False\n",
    "print(bl_true is True)\n",
    "print(bl_true == True)\n",
    "\n",
    "print(bool(1))\n"
   ]
  },
  {
   "cell_type": "code",
   "execution_count": 504,
   "metadata": {},
   "outputs": [
    {
     "name": "stdout",
     "output_type": "stream",
     "text": [
      "True\n",
      "True\n",
      "True\n",
      "False\n"
     ]
    }
   ],
   "source": [
    "#불린 계속\n",
    "bl_true = True\n",
    "bl_false = False\n",
    "print(bl_true is True)\n",
    "print(bl_true == True)\n",
    "\n",
    "print(bool(2))  #0 의외의 값은 전부 True\n",
    "print(bool(0))  #0은 False"
   ]
  },
  {
   "cell_type": "markdown",
   "metadata": {},
   "source": [
    "5. 복합형 - 리스트"
   ]
  },
  {
   "cell_type": "code",
   "execution_count": 509,
   "metadata": {},
   "outputs": [
    {
     "name": "stdout",
     "output_type": "stream",
     "text": [
      "[1, 2, 3, 4, 5, 6, 7, 8, 9, 10]\n",
      "[1, 2, 3, 4, 5, 6, 7, 8, 9, 10, 11, 12, 13, 14, 15, 16, 17, 18, 19, 20, 21, 22, 23, 24, 25, 26, 27, 28, 29, 30, 31, 32, 33, 34, 35, 36, 37, 38, 39, 40, 41, 42, 43, 44, 45, 46, 47, 48, 49, 50, 51, 52, 53, 54, 55, 56, 57, 58, 59, 60, 61, 62, 63, 64, 65, 66, 67, 68, 69, 70, 71, 72, 73, 74, 75, 76, 77, 78, 79, 80, 81, 82, 83, 84, 85, 86, 87, 88, 89, 90, 91, 92, 93, 94, 95, 96, 97, 98, 99, 100]\n",
      "<class 'list'>\n"
     ]
    }
   ],
   "source": [
    "#리스트 \n",
    "b = [1,2,3,4,5,6,7,8,9,10]\n",
    "print(b)\n",
    "c = [i for i in range(1, 101) ]\n",
    "print(c)\n",
    "print(type(c))"
   ]
  },
  {
   "cell_type": "markdown",
   "metadata": {},
   "source": [
    "6. 복합형 - 튜플, 딕셔너리, 집합(나중에...)"
   ]
  },
  {
   "cell_type": "markdown",
   "metadata": {},
   "source": []
  },
  {
   "cell_type": "markdown",
   "metadata": {},
   "source": [
    "# 연산자 학습\n",
    "1. 숫자 연산"
   ]
  },
  {
   "cell_type": "code",
   "execution_count": 513,
   "metadata": {},
   "outputs": [
    {
     "name": "stdout",
     "output_type": "stream",
     "text": [
      "18\n",
      "4\n",
      "77\n",
      "1.5714285714285714\n",
      "1\n",
      "4\n",
      "19487171\n"
     ]
    }
   ],
   "source": [
    "# 연산자 \n",
    "a = 11; b = 7\n",
    "print(a + b)\n",
    "print(a - b)\n",
    "print(a * b)\n",
    "print(a / b)\n",
    "print(a //b)\n",
    "print(a % b)\n",
    "print(a ** b)\n",
    "\n"
   ]
  },
  {
   "cell_type": "code",
   "execution_count": 514,
   "metadata": {},
   "outputs": [
    {
     "ename": "ZeroDivisionError",
     "evalue": "division by zero",
     "output_type": "error",
     "traceback": [
      "\u001b[1;31m---------------------------------------------------------------------------\u001b[0m",
      "\u001b[1;31mZeroDivisionError\u001b[0m                         Traceback (most recent call last)",
      "\u001b[1;32mc:\\Repository\\StudyPython_Kasan\\Day1\\자료형학습.ipynb Cell 18'\u001b[0m in \u001b[0;36m<cell line: 3>\u001b[1;34m()\u001b[0m\n\u001b[0;32m      <a href='vscode-notebook-cell:/c%3A/Repository/StudyPython_Kasan/Day1/%EC%9E%90%EB%A3%8C%ED%98%95%ED%95%99%EC%8A%B5.ipynb#ch0000019?line=0'>1</a>\u001b[0m \u001b[39m#경고! \u001b[39;00m\n\u001b[0;32m      <a href='vscode-notebook-cell:/c%3A/Repository/StudyPython_Kasan/Day1/%EC%9E%90%EB%A3%8C%ED%98%95%ED%95%99%EC%8A%B5.ipynb#ch0000019?line=1'>2</a>\u001b[0m c \u001b[39m=\u001b[39m \u001b[39m0\u001b[39m \n\u001b[1;32m----> <a href='vscode-notebook-cell:/c%3A/Repository/StudyPython_Kasan/Day1/%EC%9E%90%EB%A3%8C%ED%98%95%ED%95%99%EC%8A%B5.ipynb#ch0000019?line=2'>3</a>\u001b[0m \u001b[39mprint\u001b[39m(a \u001b[39m/\u001b[39;49m c)\n",
      "\u001b[1;31mZeroDivisionError\u001b[0m: division by zero"
     ]
    }
   ],
   "source": [
    "#경고! 예외발생!\n",
    "c = 0 \n",
    "print(a / c) #ZeroDivision 에러나는 이유 : 결과값이 무한대이기 때문에 "
   ]
  },
  {
   "cell_type": "markdown",
   "metadata": {},
   "source": [
    "2. 문자열 연산"
   ]
  },
  {
   "cell_type": "code",
   "execution_count": 519,
   "metadata": {},
   "outputs": [
    {
     "name": "stdout",
     "output_type": "stream",
     "text": [
      "hello,world\n",
      "worldworldworldworldworld\n"
     ]
    },
    {
     "ename": "TypeError",
     "evalue": "unsupported operand type(s) for -: 'str' and 'str'",
     "output_type": "error",
     "traceback": [
      "\u001b[1;31m---------------------------------------------------------------------------\u001b[0m",
      "\u001b[1;31mTypeError\u001b[0m                                 Traceback (most recent call last)",
      "\u001b[1;32mc:\\Repository\\StudyPython_Kasan\\Day1\\자료형학습.ipynb Cell 20'\u001b[0m in \u001b[0;36m<cell line: 7>\u001b[1;34m()\u001b[0m\n\u001b[0;32m      <a href='vscode-notebook-cell:/c%3A/Repository/StudyPython_Kasan/Day1/%EC%9E%90%EB%A3%8C%ED%98%95%ED%95%99%EC%8A%B5.ipynb#ch0000021?line=3'>4</a>\u001b[0m \u001b[39mprint\u001b[39m(first \u001b[39m+\u001b[39m \u001b[39m'\u001b[39m\u001b[39m'\u001b[39m \u001b[39m+\u001b[39m second)\n\u001b[0;32m      <a href='vscode-notebook-cell:/c%3A/Repository/StudyPython_Kasan/Day1/%EC%9E%90%EB%A3%8C%ED%98%95%ED%95%99%EC%8A%B5.ipynb#ch0000021?line=5'>6</a>\u001b[0m \u001b[39mprint\u001b[39m(second \u001b[39m*\u001b[39m \u001b[39m5\u001b[39m)\n\u001b[1;32m----> <a href='vscode-notebook-cell:/c%3A/Repository/StudyPython_Kasan/Day1/%EC%9E%90%EB%A3%8C%ED%98%95%ED%95%99%EC%8A%B5.ipynb#ch0000021?line=6'>7</a>\u001b[0m \u001b[39mprint\u001b[39m(first \u001b[39m-\u001b[39;49m second)\n\u001b[0;32m      <a href='vscode-notebook-cell:/c%3A/Repository/StudyPython_Kasan/Day1/%EC%9E%90%EB%A3%8C%ED%98%95%ED%95%99%EC%8A%B5.ipynb#ch0000021?line=7'>8</a>\u001b[0m \u001b[39mprint\u001b[39m(first \u001b[39m/\u001b[39m \u001b[39m2\u001b[39m)\n",
      "\u001b[1;31mTypeError\u001b[0m: unsupported operand type(s) for -: 'str' and 'str'"
     ]
    }
   ],
   "source": [
    "#문자열 연산 +,*\n",
    "first = 'hello,'\n",
    "second = 'world'\n",
    "print(first + '' + second)\n",
    "\n",
    "print(second * 5)\n",
    "print(first - second)\n",
    "print(first / 2)\n"
   ]
  },
  {
   "cell_type": "code",
   "execution_count": 520,
   "metadata": {},
   "outputs": [
    {
     "name": "stdout",
     "output_type": "stream",
     "text": [
      "6\n",
      "h\n",
      "e\n",
      "l\n",
      "l\n",
      "o\n",
      ",\n"
     ]
    }
   ],
   "source": [
    "##문자열\n",
    "print(len(first))\n",
    "print(first[0])\n",
    "print(first[1])\n",
    "print(first[2])\n",
    "print(first[3])\n",
    "print(first[4])\n",
    "print(first[5])\n",
    "#print(first[6]) #IndexError 예외발생"
   ]
  },
  {
   "cell_type": "code",
   "execution_count": 530,
   "metadata": {},
   "outputs": [
    {
     "name": "stdout",
     "output_type": "stream",
     "text": [
      "['2022-05-23', '17:33:45']\n",
      "2022-05-23\n",
      "17:33:45\n",
      "2022\n",
      "05\n",
      "23\n",
      "17\n",
      "33\n",
      "45\n",
      "45\n",
      "33\n"
     ]
    }
   ],
   "source": [
    "#현재 일시\n",
    "current = '2022-05-23 17:33:45'\n",
    "curr_date = current.split(' ')\n",
    "print(curr_date)\n",
    "print(curr_date[0])\n",
    "print(curr_date[1])\n",
    "\n",
    "print(current[0:4])\n",
    "print(current[5:7])\n",
    "print(current[8:10])\n",
    "\n",
    "print(current[11:13])\n",
    "print(current[14:16])\n",
    "print(current[17:19])\n",
    "\n",
    "\n",
    "print(current[-2:])\n",
    "print(current[-5:-3])\n",
    "\n",
    "\n"
   ]
  }
 ],
 "metadata": {
  "interpreter": {
   "hash": "26de051ba29f2982a8de78e945f0abaf191376122a1563185a90213a26c5da77"
  },
  "kernelspec": {
   "display_name": "Python 3.10.4 64-bit",
   "language": "python",
   "name": "python3"
  },
  "language_info": {
   "codemirror_mode": {
    "name": "ipython",
    "version": 3
   },
   "file_extension": ".py",
   "mimetype": "text/x-python",
   "name": "python",
   "nbconvert_exporter": "python",
   "pygments_lexer": "ipython3",
   "version": "3.10.4"
  },
  "orig_nbformat": 4
 },
 "nbformat": 4,
 "nbformat_minor": 2
}
