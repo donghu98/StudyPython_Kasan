{
 "cells": [
  {
   "cell_type": "markdown",
   "metadata": {},
   "source": [
    "# 연산자 학습\n",
    "1. 숫자 연산"
   ]
  },
  {
   "cell_type": "code",
   "execution_count": 1,
   "metadata": {},
   "outputs": [
    {
     "name": "stdout",
     "output_type": "stream",
     "text": [
      "18\n",
      "4\n",
      "77\n",
      "1.5714285714285714\n",
      "1\n",
      "4\n",
      "19487171\n"
     ]
    }
   ],
   "source": [
    "# 연산자 \n",
    "a = 11; b = 7\n",
    "print(a + b)\n",
    "print(a - b)\n",
    "print(a * b)\n",
    "print(a / b)\n",
    "print(a //b)\n",
    "print(a % b)\n",
    "print(a ** b)\n",
    "\n"
   ]
  },
  {
   "cell_type": "code",
   "execution_count": null,
   "metadata": {},
   "outputs": [],
   "source": [
    "#경고! \n",
    "c = 0 \n",
    "print(a / c) #ZeroDivision 에러나는 이유 : 결과값이 무한대이기 때문에"
   ]
  },
  {
   "cell_type": "markdown",
   "metadata": {},
   "source": [
    "일반 리스트 값 변경"
   ]
  },
  {
   "cell_type": "code",
   "execution_count": 1,
   "metadata": {},
   "outputs": [
    {
     "name": "stdout",
     "output_type": "stream",
     "text": [
      "[1, 2, 3, 4, 5]\n",
      "1\n",
      "[7, 2, 3, 4, 5]\n"
     ]
    }
   ],
   "source": [
    "#일반 리스트 값 변경\n",
    "q = [1,2,3,4,5]\n",
    "print(q)\n",
    "print(q[0])\n",
    "q[0] = 7\n",
    "print(q)"
   ]
  },
  {
   "cell_type": "code",
   "execution_count": 6,
   "metadata": {},
   "outputs": [
    {
     "name": "stdout",
     "output_type": "stream",
     "text": [
      "hello!\n",
      "h\n",
      "hello!\n",
      "Hello!\n"
     ]
    }
   ],
   "source": [
    "#문자열(문자의 배열) 값 변경\n",
    "greeting = 'hello!'\n",
    "print(greeting)\n",
    "print(greeting[0])\n",
    "# greeting[0] = 'H'  #TypeErroe 예외발생 #지금 여기서 에러가 났기 때문에 주석처리함\n",
    "print(greeting)   #왜 안돼?? - 문자에다가 값을 변경하는 것은 불가 \n",
    "\n",
    "new_greeting = 'H' + greeting[1:]\n",
    "print(new_greeting)"
   ]
  },
  {
   "cell_type": "markdown",
   "metadata": {},
   "source": [
    "3. 문자열 포맷팅"
   ]
  },
  {
   "cell_type": "code",
   "execution_count": 13,
   "metadata": {},
   "outputs": [
    {
     "name": "stdout",
     "output_type": "stream",
     "text": [
      "i'm happy to you\n",
      "제 이름은 성명건입니다.부산에 살아요 \n"
     ]
    }
   ],
   "source": [
    "# 문자열 포맷팅\n",
    "#'i'm so happy  for you' 하면 문장에는 필수적으로'가 들어가지만 문제가 되는게 i에서 문장에서 끝난다는 것 \n",
    "# 그 해결책으로 쌍따옴표를 사용한다 \"i'm ~~~\"\n",
    "# or ' i\\'m ~~~' 역슬래시를 이용해 해결할 수도 있음\n",
    "\n",
    "# 포맷팅 구식\n",
    "word1 = 'for'\n",
    "word2 = 'me'\n",
    "print(  'i\\'m happy {0} {1}'.format('word1', 'word2')  )          #이걸 활용하여 은행에서 기본적인틀을 가지고 각 사람마다의 이름을 불러와서 고지서를 보낼 수 있다\n",
    "# 포맷팅 신식\n",
    "name = '성명건'\n",
    "region = '부산'\n",
    "print(f'제 이름은 {name}입니다.{region}에 살아요 ')  #f 키워드라는 뜻  **매우 중요 f 꼭 잊지말고 적어줘야 함 안그럼 걍 코딩문자대로 나옴 \n",
    "\n"
   ]
  },
  {
   "cell_type": "code",
   "execution_count": 19,
   "metadata": {},
   "outputs": [
    {
     "name": "stdout",
     "output_type": "stream",
     "text": [
      "3.141592653589793\n",
      "3.14\n"
     ]
    }
   ],
   "source": [
    "import math\n",
    "print(math.pi)\n",
    "print(f'{math.pi:0.2f}')\n",
    "print('{0:0.4f}'.format)"
   ]
  },
  {
   "cell_type": "code",
   "execution_count": null,
   "metadata": {},
   "outputs": [],
   "source": [
    "#문자열 자르기\n",
    "orign_Str = '서울특별시 금천구 가산동'\n",
    "print(orign_str)\n",
    "print(orign_str.split())\n",
    "\n",
    "mes_str = 'DEST07'\n"
   ]
  },
  {
   "cell_type": "code",
   "execution_count": 20,
   "metadata": {},
   "outputs": [
    {
     "name": "stdout",
     "output_type": "stream",
     "text": [
      "Ashley Sung\n"
     ]
    }
   ],
   "source": [
    "#문자열 치환\n",
    "full_name = \"Hugo MG Sung\"\n",
    "rep_name = full_name.replace('Hugo MG', 'Ashley')\n",
    "print(rep_name)"
   ]
  },
  {
   "cell_type": "code",
   "execution_count": 25,
   "metadata": {},
   "outputs": [
    {
     "name": "stdout",
     "output_type": "stream",
     "text": [
      "['hey', ' FCUK']\n",
      "['hey', 'FCUK']\n"
     ]
    }
   ],
   "source": [
    "#문자열 공백 제거\n",
    "test = 'hey, FCUK'\n",
    "sp_test = test.split(',')\n",
    "sp_test[1] = sp_test[1].replace('~','')\n",
    "print(sp_test)\n",
    "sp_test[1] = sp_test[1].replace('~','').strip()\n",
    "print(sp_test)\n"
   ]
  },
  {
   "cell_type": "code",
   "execution_count": 26,
   "metadata": {},
   "outputs": [
    {
     "name": "stdout",
     "output_type": "stream",
     "text": [
      "Hello      \n",
      "      Hello\n",
      "Hello\n",
      "Hello     ~\n"
     ]
    }
   ],
   "source": [
    "print('      Hello      '.lstrip())\n",
    "print('      Hello      '.rstrip())\n",
    "print('      Hello      '.strip())\n",
    "print('      Hello     ~   '.strip()) #문자사이의 공백은 사라지지 않는다! "
   ]
  },
  {
   "cell_type": "code",
   "execution_count": 31,
   "metadata": {},
   "outputs": [
    {
     "name": "stdout",
     "output_type": "stream",
     "text": [
      "5\n"
     ]
    }
   ],
   "source": [
    "print(test.index('F'))\n",
    "#print(test.index('q')) #ValueError 예외발생, 없는 단어를 찾으면 에러발생"
   ]
  },
  {
   "cell_type": "code",
   "execution_count": 32,
   "metadata": {},
   "outputs": [
    {
     "name": "stdout",
     "output_type": "stream",
     "text": [
      "0\n"
     ]
    }
   ],
   "source": [
    "print('hello~' .count('1'))\n"
   ]
  },
  {
   "cell_type": "code",
   "execution_count": 33,
   "metadata": {},
   "outputs": [
    {
     "name": "stdout",
     "output_type": "stream",
     "text": [
      "HUGO MG SUNG\n",
      "hugo mg sung\n"
     ]
    }
   ],
   "source": [
    "print(full_name.upper()) #모든 단어를 대문자\n",
    "print(full_name.lower()) #모든 단어를 소문자"
   ]
  },
  {
   "cell_type": "markdown",
   "metadata": {},
   "source": [
    "4. 리스트 연산"
   ]
  },
  {
   "cell_type": "code",
   "execution_count": 37,
   "metadata": {},
   "outputs": [
    {
     "name": "stdout",
     "output_type": "stream",
     "text": [
      "5\n",
      "5\n",
      "6\n",
      "[1, 2, '3', 4, 5]\n",
      "3333\n",
      "5\n"
     ]
    }
   ],
   "source": [
    "# 리스트 연산\n",
    "arr = [1,2,3,4,5]\n",
    "print(len(arr))\n",
    "print(arr[4])\n",
    "\n",
    "print(arr[0] + arr[4])\n",
    "arr[2] = '3'\n",
    "print(arr)\n",
    "print(arr[2] * arr[3]) #문자열은 더하기 빼기 불가능 곱셈,나누기는 가능\n",
    "\n",
    "print(arr[-1])\n"
   ]
  },
  {
   "cell_type": "code",
   "execution_count": 42,
   "metadata": {},
   "outputs": [
    {
     "name": "stdout",
     "output_type": "stream",
     "text": [
      "[1, 2, ['Hi', 'MY', 'Friends']]\n",
      "['Hi', 'MY', 'Friends']\n",
      "Friends\n",
      "F\n"
     ]
    }
   ],
   "source": [
    "arr2 = [1,2, ['Hi', 'MY', 'Friends']]\n",
    "print(arr2)\n",
    "\n",
    "print(arr2[2])\n",
    "print(arr2[2][2])\n",
    "print(arr2[2][2][0])"
   ]
  },
  {
   "cell_type": "code",
   "execution_count": 44,
   "metadata": {},
   "outputs": [
    {
     "name": "stdout",
     "output_type": "stream",
     "text": [
      "[1, 2]\n",
      "[2, ['Hi', 'MY', 'Friends']]\n"
     ]
    }
   ],
   "source": [
    "print(arr[0:2])\n",
    "print(arr2[-2:])"
   ]
  },
  {
   "cell_type": "code",
   "execution_count": 49,
   "metadata": {},
   "outputs": [
    {
     "name": "stdout",
     "output_type": "stream",
     "text": [
      "[1, 2, ['Hi', 'MY', 'Friends']]\n",
      "[1, 2]\n"
     ]
    }
   ],
   "source": [
    "print(arr2)\n",
    "del(arr2[2])\n",
    "print(arr2)\n"
   ]
  },
  {
   "cell_type": "code",
   "execution_count": 51,
   "metadata": {},
   "outputs": [],
   "source": [
    "#del(arr2)\n",
    "#print(arr2) NameError 발생 왜냐하면 출력나와야할게 다 지워졌으니까  "
   ]
  },
  {
   "cell_type": "code",
   "execution_count": 55,
   "metadata": {},
   "outputs": [
    {
     "name": "stdout",
     "output_type": "stream",
     "text": [
      "[1, 2, '3', 4, 5, 9]\n"
     ]
    }
   ],
   "source": [
    "#리스트 변수 추가\n",
    "print(arr)\n",
    "arr.append(9)"
   ]
  },
  {
   "cell_type": "code",
   "execution_count": 66,
   "metadata": {},
   "outputs": [
    {
     "name": "stdout",
     "output_type": "stream",
     "text": [
      "[1, 2, '3', 25, 25, 25, 25, 25, 25, 25, 25, 25, 25, 4, 5, 9, 9]\n"
     ]
    }
   ],
   "source": [
    "# insert()\n",
    "arr.insert(3,25)\n",
    "print(arr) #실행할때마다 값이 계속 추가되는거임"
   ]
  },
  {
   "cell_type": "code",
   "execution_count": 70,
   "metadata": {},
   "outputs": [
    {
     "name": "stdout",
     "output_type": "stream",
     "text": [
      "[1, 74, 8, 4, 6, 14]\n",
      "[1, 4, 6, 8, 14, 74]\n",
      "[74, 14, 8, 6, 4, 1]\n"
     ]
    }
   ],
   "source": [
    "# 정렬\n",
    "list1 = [1,74,8,4,6,14]\n",
    "print(list1)\n",
    "\n",
    "list1.sort() #오름차순 정렬\n",
    "print(list1)\n",
    "list1.reverse() #내림차순 정렬\n",
    "print(list1)"
   ]
  },
  {
   "cell_type": "code",
   "execution_count": 71,
   "metadata": {},
   "outputs": [
    {
     "name": "stdout",
     "output_type": "stream",
     "text": [
      "[74, 14, 8, 6, 4, 1]\n",
      "1\n",
      "[74, 14, 8, 6, 4]\n"
     ]
    }
   ],
   "source": [
    "#스택형태 함수\n",
    "print(list1)\n",
    "print(list1.pop())\n",
    "print(list1)"
   ]
  },
  {
   "cell_type": "markdown",
   "metadata": {},
   "source": [
    "5. 튜플, 튜플연산"
   ]
  },
  {
   "cell_type": "code",
   "execution_count": 73,
   "metadata": {},
   "outputs": [
    {
     "name": "stdout",
     "output_type": "stream",
     "text": [
      "(1, 2, 3, 4, 5)\n"
     ]
    }
   ],
   "source": [
    "tup1 = (1,2,3,4,5)\n",
    "print(tup1)"
   ]
  },
  {
   "cell_type": "code",
   "execution_count": 76,
   "metadata": {},
   "outputs": [
    {
     "name": "stdout",
     "output_type": "stream",
     "text": [
      "5\n"
     ]
    }
   ],
   "source": [
    "print(tup1[4])"
   ]
  },
  {
   "cell_type": "code",
   "execution_count": 78,
   "metadata": {},
   "outputs": [],
   "source": [
    "#tup1[0] = 7  #튜블은 새로운 데이터를 추가,변경,삭제가 불가능 (list와 비슷하면서도 다름)"
   ]
  },
  {
   "cell_type": "markdown",
   "metadata": {},
   "source": [
    "6. 딕셔너리 연산"
   ]
  },
  {
   "cell_type": "code",
   "execution_count": 80,
   "metadata": {},
   "outputs": [
    {
     "name": "stdout",
     "output_type": "stream",
     "text": [
      "{1: 'a'}\n"
     ]
    }
   ],
   "source": [
    "dic_a = { 1 : 'a'}\n",
    "print(dic_a)"
   ]
  },
  {
   "cell_type": "code",
   "execution_count": 81,
   "metadata": {},
   "outputs": [
    {
     "name": "stdout",
     "output_type": "stream",
     "text": [
      "{1: 'a', 2: 'b'}\n"
     ]
    }
   ],
   "source": [
    "dic_a[2] = 'b' #앞의 값을 찾으면 연결된 값이 출력된다 \n",
    "print(dic_a)"
   ]
  },
  {
   "cell_type": "code",
   "execution_count": 87,
   "metadata": {},
   "outputs": [
    {
     "name": "stdout",
     "output_type": "stream",
     "text": [
      "{1: 'a', 2: 'b', 'name': 'Hugo'}\n"
     ]
    }
   ],
   "source": [
    "dic_a['name'] = 'Hugo'\n",
    "print(dic_a)"
   ]
  },
  {
   "cell_type": "code",
   "execution_count": 85,
   "metadata": {},
   "outputs": [
    {
     "name": "stdout",
     "output_type": "stream",
     "text": [
      "{'name': 'Peter parker', 'armer': 'Web shooter', 'age': 20}\n"
     ]
    }
   ],
   "source": [
    "spider_man = {'name' : 'Peter parker', 'armer': 'Web shooter', 'age': 20}\n",
    "print(spider_man)"
   ]
  },
  {
   "cell_type": "code",
   "execution_count": 86,
   "metadata": {},
   "outputs": [
    {
     "name": "stdout",
     "output_type": "stream",
     "text": [
      "Peter parker\n"
     ]
    }
   ],
   "source": [
    "print(spider_man['name'])"
   ]
  }
 ],
 "metadata": {
  "interpreter": {
   "hash": "26de051ba29f2982a8de78e945f0abaf191376122a1563185a90213a26c5da77"
  },
  "kernelspec": {
   "display_name": "Python 3.10.4 64-bit",
   "language": "python",
   "name": "python3"
  },
  "language_info": {
   "codemirror_mode": {
    "name": "ipython",
    "version": 3
   },
   "file_extension": ".py",
   "mimetype": "text/x-python",
   "name": "python",
   "nbconvert_exporter": "python",
   "pygments_lexer": "ipython3",
   "version": "3.10.4"
  },
  "orig_nbformat": 4
 },
 "nbformat": 4,
 "nbformat_minor": 2
}
