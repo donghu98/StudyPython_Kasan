{
 "cells": [
  {
   "cell_type": "markdown",
   "metadata": {},
   "source": [
    "# 모듈 & 패키지 "
   ]
  },
  {
   "cell_type": "markdown",
   "metadata": {},
   "source": [
    "1. 모듈"
   ]
  },
  {
   "cell_type": "code",
   "execution_count": 10,
   "metadata": {},
   "outputs": [],
   "source": [
    " #import math\n",
    " #import math as m\n",
    "from math import pi, cosh\n",
    " "
   ]
  },
  {
   "cell_type": "code",
   "execution_count": null,
   "metadata": {},
   "outputs": [],
   "source": []
  },
  {
   "cell_type": "markdown",
   "metadata": {},
   "source": [
    "2. 랜덤 모듈 불러서 사용"
   ]
  },
  {
   "cell_type": "code",
   "execution_count": 12,
   "metadata": {},
   "outputs": [
    {
     "name": "stdout",
     "output_type": "stream",
     "text": [
      "짬짜면\n"
     ]
    }
   ],
   "source": [
    "import random as rnd\n",
    "\n",
    "base = [1,2,3,4,5,6,7,8,9,10]\n",
    "menu = ['자장면','짬뽕','울면','짬짜면']\n",
    "\n",
    "print(rnd.choice(menu))"
   ]
  },
  {
   "cell_type": "code",
   "execution_count": 16,
   "metadata": {},
   "outputs": [
    {
     "name": "stdout",
     "output_type": "stream",
     "text": [
      "1등 번호는 [41, 40, 7, 24, 29, 10] 입니다\n"
     ]
    }
   ],
   "source": [
    "#로또 6/45\n",
    "numbers = [i for i in range(1,46)]\n",
    "lotto = []\n",
    "\n",
    "for i in range(6):\n",
    "    lotto.append(rnd.choice(numbers))\n",
    "\n",
    "print(f'1등 번호는 {lotto} 입니다')"
   ]
  },
  {
   "cell_type": "code",
   "execution_count": 77,
   "metadata": {},
   "outputs": [
    {
     "name": "stdout",
     "output_type": "stream",
     "text": [
      "1등 번호는 [1, 8, 32, 30, 10, 15] 입니다\n"
     ]
    }
   ],
   "source": [
    "#로또 6/45\n",
    "numbers = [i for i in range(1,46)]\n",
    "lotto = []\n",
    "\n",
    "lotto = rnd.sample(numbers,k = 6)\n",
    "\n",
    "print(f'1등 번호는 {lotto} 입니다')"
   ]
  },
  {
   "cell_type": "markdown",
   "metadata": {},
   "source": [
    "3. URL 모듈로 웹사이트 소스코드 가져오기"
   ]
  },
  {
   "cell_type": "code",
   "execution_count": 44,
   "metadata": {},
   "outputs": [
    {
     "name": "stdout",
     "output_type": "stream",
     "text": [
      "200\n"
     ]
    }
   ],
   "source": [
    "# urllib.request\n",
    "from urllib. request import Request, urlopen\n",
    "\n",
    "req = Request('https://www.google.com')\n",
    "response = urlopen(req)\n",
    "print(response.status)   \n",
    "\n",
    "# 웹사이트 : 요청에 대한 대답 -> request - response\n",
    "# 200 : 요청을 했고 정상적으로 대답을 했다는 의미 \n",
    "# 404 (error) : 요청을 했지만 대답을 받지 못했다는 의미"
   ]
  },
  {
   "cell_type": "code",
   "execution_count": 47,
   "metadata": {},
   "outputs": [
    {
     "name": "stdout",
     "output_type": "stream",
     "text": [
      "200\n"
     ]
    }
   ],
   "source": [
    "#request 외부 모듈 사용\n",
    "import requests\n",
    "\n",
    "res = requests.get('http://www.google.com')\n",
    "print(res.status_code)\n"
   ]
  }
 ],
 "metadata": {
  "interpreter": {
   "hash": "26de051ba29f2982a8de78e945f0abaf191376122a1563185a90213a26c5da77"
  },
  "kernelspec": {
   "display_name": "Python 3.10.4 64-bit",
   "language": "python",
   "name": "python3"
  },
  "language_info": {
   "codemirror_mode": {
    "name": "ipython",
    "version": 3
   },
   "file_extension": ".py",
   "mimetype": "text/x-python",
   "name": "python",
   "nbconvert_exporter": "python",
   "pygments_lexer": "ipython3",
   "version": "3.10.4"
  },
  "orig_nbformat": 4
 },
 "nbformat": 4,
 "nbformat_minor": 2
}
