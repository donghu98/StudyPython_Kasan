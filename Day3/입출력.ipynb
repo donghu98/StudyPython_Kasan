{
 "cells": [
  {
   "cell_type": "markdown",
   "metadata": {},
   "source": [
    "# 입출력, 파일 입출력"
   ]
  },
  {
   "cell_type": "markdown",
   "metadata": {},
   "source": [
    "1. 화면 입출력"
   ]
  },
  {
   "cell_type": "code",
   "execution_count": 3,
   "metadata": {},
   "outputs": [
    {
     "ename": "ValueError",
     "evalue": "invalid literal for int() with base 10: ''",
     "output_type": "error",
     "traceback": [
      "\u001b[1;31m---------------------------------------------------------------------------\u001b[0m",
      "\u001b[1;31mValueError\u001b[0m                                Traceback (most recent call last)",
      "\u001b[1;32mc:\\Repository\\StudyPython_Kasan\\Day3\\입출력.ipynb Cell 3'\u001b[0m in \u001b[0;36m<cell line: 3>\u001b[1;34m()\u001b[0m\n\u001b[0;32m      <a href='vscode-notebook-cell:/c%3A/Repository/StudyPython_Kasan/Day3/%EC%9E%85%EC%B6%9C%EB%A0%A5.ipynb#ch0000002?line=0'>1</a>\u001b[0m \u001b[39m# 기본 화면 입출력\u001b[39;00m\n\u001b[0;32m      <a href='vscode-notebook-cell:/c%3A/Repository/StudyPython_Kasan/Day3/%EC%9E%85%EC%B6%9C%EB%A0%A5.ipynb#ch0000002?line=1'>2</a>\u001b[0m a \u001b[39m=\u001b[39m \u001b[39minput\u001b[39m(\u001b[39m'\u001b[39m\u001b[39m원하는 숫자를 입력하세요 : \u001b[39m\u001b[39m'\u001b[39m)\n\u001b[1;32m----> <a href='vscode-notebook-cell:/c%3A/Repository/StudyPython_Kasan/Day3/%EC%9E%85%EC%B6%9C%EB%A0%A5.ipynb#ch0000002?line=2'>3</a>\u001b[0m a \u001b[39m=\u001b[39m \u001b[39mint\u001b[39;49m(a)\n\u001b[0;32m      <a href='vscode-notebook-cell:/c%3A/Repository/StudyPython_Kasan/Day3/%EC%9E%85%EC%B6%9C%EB%A0%A5.ipynb#ch0000002?line=3'>4</a>\u001b[0m a \u001b[39m+\u001b[39m \u001b[39m4\u001b[39m\n",
      "\u001b[1;31mValueError\u001b[0m: invalid literal for int() with base 10: ''"
     ]
    }
   ],
   "source": [
    "# 기본 화면 입출력\n",
    "a = input('원하는 숫자를 입력하세요 : ')\n",
    "a = int(a)\n",
    "a + 4\n"
   ]
  },
  {
   "cell_type": "code",
   "execution_count": 6,
   "metadata": {},
   "outputs": [
    {
     "name": "stdout",
     "output_type": "stream",
     "text": [
      "life is short, You need Python\n",
      "[0, 1, 2, 3, 4, 5, 6, 7, 8, 9, 10, 11, 12, 13, 14, 15, 16, 17, 18, 19, 20, 21, 22, 23, 24, 25, 26, 27, 28, 29, 30, 31, 32, 33, 34]\n",
      "life is short\n",
      "life is short\n",
      "life is short\n"
     ]
    }
   ],
   "source": [
    "# 기본 화면 입출력\n",
    "b = 'life is short, You need Python'\n",
    "print(b)\n",
    "b = 108\n",
    "b = [i for i in range(0,35)]\n",
    "print(b)\n",
    "\n",
    "print('life','is','short')\n",
    "print(\"life\",\"is\",\"short\")\n",
    "\n",
    "print('life' + ' is' + ' short') #문자열 결합(concatnate) + 연산자\n"
   ]
  },
  {
   "cell_type": "code",
   "execution_count": 8,
   "metadata": {},
   "outputs": [
    {
     "name": "stdout",
     "output_type": "stream",
     "text": [
      "1 2 3 4 "
     ]
    }
   ],
   "source": [
    "a = [1,2,3,4]\n",
    "for i in a:\n",
    "    print(i,end=' ')"
   ]
  },
  {
   "cell_type": "code",
   "execution_count": 12,
   "metadata": {},
   "outputs": [
    {
     "ename": "ValueError",
     "evalue": "not enough values to unpack (expected 2, got 0)",
     "output_type": "error",
     "traceback": [
      "\u001b[1;31m---------------------------------------------------------------------------\u001b[0m",
      "\u001b[1;31mValueError\u001b[0m                                Traceback (most recent call last)",
      "\u001b[1;32mc:\\Repository\\StudyPython_Kasan\\Day3\\입출력.ipynb Cell 6'\u001b[0m in \u001b[0;36m<cell line: 2>\u001b[1;34m()\u001b[0m\n\u001b[0;32m      <a href='vscode-notebook-cell:/c%3A/Repository/StudyPython_Kasan/Day3/%EC%9E%85%EC%B6%9C%EB%A0%A5.ipynb#ch0000007?line=0'>1</a>\u001b[0m \u001b[39m#다중값 입력\u001b[39;00m\n\u001b[1;32m----> <a href='vscode-notebook-cell:/c%3A/Repository/StudyPython_Kasan/Day3/%EC%9E%85%EC%B6%9C%EB%A0%A5.ipynb#ch0000007?line=1'>2</a>\u001b[0m (x,y) \u001b[39m=\u001b[39m \u001b[39minput\u001b[39m(\u001b[39m'\u001b[39m\u001b[39m두개의 영어 단어를 입력하세요\u001b[39m\u001b[39m'\u001b[39m)\u001b[39m.\u001b[39msplit()\n\u001b[0;32m      <a href='vscode-notebook-cell:/c%3A/Repository/StudyPython_Kasan/Day3/%EC%9E%85%EC%B6%9C%EB%A0%A5.ipynb#ch0000007?line=2'>3</a>\u001b[0m \u001b[39mprint\u001b[39m(x)\n\u001b[0;32m      <a href='vscode-notebook-cell:/c%3A/Repository/StudyPython_Kasan/Day3/%EC%9E%85%EC%B6%9C%EB%A0%A5.ipynb#ch0000007?line=3'>4</a>\u001b[0m \u001b[39mprint\u001b[39m(y)\n",
      "\u001b[1;31mValueError\u001b[0m: not enough values to unpack (expected 2, got 0)"
     ]
    }
   ],
   "source": [
    "#다중값 입력\n",
    "(x,y) = input('두개의 영어 단어를 입력하세요').split()\n",
    "print(x)\n",
    "print(y)"
   ]
  },
  {
   "cell_type": "code",
   "execution_count": 15,
   "metadata": {},
   "outputs": [
    {
     "name": "stdout",
     "output_type": "stream",
     "text": [
      "294\n"
     ]
    }
   ],
   "source": [
    "#다중값 입력\n",
    "(x,y) = input('두개의 수를 입력하세요(구분자,)').split(',')\n",
    "print(int(x)*int(y)) ##문자를 정수화(숫자화)하는 것 매우중요 int 매우 중요\n",
    "##만약에 x*int(y) 함수이고 7,10을 대입했을 때 나오는 결과값은 7777777777 이 될 것이다 "
   ]
  },
  {
   "cell_type": "code",
   "execution_count": 18,
   "metadata": {},
   "outputs": [
    {
     "name": "stdout",
     "output_type": "stream",
     "text": [
      "hello\n",
      "world\n",
      "\tHi!\"WoW\"\n"
     ]
    }
   ],
   "source": [
    "test_str = 'hello\\nworld\\n\\tHi!\\\"WoW\\\"'\n",
    "print(test_str)"
   ]
  },
  {
   "cell_type": "code",
   "execution_count": 21,
   "metadata": {},
   "outputs": [
    {
     "name": "stdout",
     "output_type": "stream",
     "text": [
      "저는 성명건이고    40대 후반입니다.\n",
      "저는 성명건이고    40대 후반입니다.\n"
     ]
    }
   ],
   "source": [
    "#문자열 포맷팅\n",
    "#구시대방법\n",
    "print('%s는 %s이고 %5d대 %s입니다.'%('저','성명건',40,'후반'))\n",
    "#신식방법 1\n",
    "print('{0}는 {1}이고 {2:>5}대 {3}입니다.'.format('저','성명건',40,'후반'))\n",
    "#python 3.6부터 변경된 방법, 추천방법!\n",
    "print(f'{0}는 {1}이고 {2:>5}대 {3}입니다.'.format('저','성명건',40,'후반'))\n",
    "\n"
   ]
  },
  {
   "cell_type": "markdown",
   "metadata": {},
   "source": [
    "2. 파일입출력 -- R W A 만 알아도 된다"
   ]
  },
  {
   "cell_type": "code",
   "execution_count": 35,
   "metadata": {},
   "outputs": [],
   "source": [
    "#파일 출력 !\n",
    "# ! 파일은 열면 무조건 닫아야합니다 \n",
    "file = open('sample,txt',mode='w',encoding='utf-8') #파일열기\n",
    "# 컴퓨터 미국꺼 다른 나라에 팔기위해 영어를 다른 언어로 번역할 필요가 있음 \n",
    "# 기본적으로 유니코드 utf-8(국제적인 언어) 1바이트크기. 한글은 2바이트 \n",
    "# 딱봐도 (글자)인코딩할 필요가 느껴지시죠??\n",
    "# 안하면 글자가 깨져서 나옴 그러면 못알아보겠지???\n",
    "\n",
    "file.write('안녕하세요. 파이썬 학습중입니다\\n')\n",
    "file.write('두번째 줄 시작입니다\\n')\n",
    "file.write('세번째 문장이예요\\n')\n",
    "file.close() #파일닫기"
   ]
  },
  {
   "cell_type": "code",
   "execution_count": 38,
   "metadata": {},
   "outputs": [
    {
     "name": "stdout",
     "output_type": "stream",
     "text": [
      "안녕하세요. 파이썬 학습중입니다\n",
      "두번째 줄 시작입니다\n",
      "세번째 문장이예요\n",
      "\n"
     ]
    }
   ],
   "source": [
    "#파일 입력\n",
    "fr = open('sample,txt',mode='r',encoding='utf-8')\n",
    "text = fr.read()  #한번에 다 읽는 것\n",
    "\n",
    "fr.close()\n",
    "print(text)"
   ]
  },
  {
   "cell_type": "code",
   "execution_count": 41,
   "metadata": {},
   "outputs": [
    {
     "name": "stdout",
     "output_type": "stream",
     "text": [
      "안녕하세요. 파이썬 학습중입니다\n",
      "두번째 줄 시작입니다\n",
      "세번째 문장이예요\n"
     ]
    }
   ],
   "source": [
    "# 파일 읽기 한줄씩 읽어오기(일반적)\n",
    "fr = open('sample,txt',mode='r',encoding='utf-8')\n",
    "while True:\n",
    "    line = fr.readline()  #한줄씩 읽기\n",
    "    if not line: break\n",
    "\n",
    "    print(line,end='')\n",
    "\n",
    "fr.close()"
   ]
  },
  {
   "cell_type": "markdown",
   "metadata": {},
   "source": [
    "3. CSV파일 읽기"
   ]
  },
  {
   "cell_type": "code",
   "execution_count": 57,
   "metadata": {},
   "outputs": [
    {
     "ename": "FileNotFoundError",
     "evalue": "[Errno 2] No such file or directory: 'C:/Repository/StudyPython_Kasan/Day3/+seoul_bus.csv'",
     "output_type": "error",
     "traceback": [
      "\u001b[1;31m---------------------------------------------------------------------------\u001b[0m",
      "\u001b[1;31mFileNotFoundError\u001b[0m                         Traceback (most recent call last)",
      "\u001b[1;32mc:\\Repository\\StudyPython_Kasan\\Day3\\입출력.ipynb Cell 15'\u001b[0m in \u001b[0;36m<cell line: 6>\u001b[1;34m()\u001b[0m\n\u001b[0;32m      <a href='vscode-notebook-cell:/c%3A/Repository/StudyPython_Kasan/Day3/%EC%9E%85%EC%B6%9C%EB%A0%A5.ipynb#ch0000017?line=2'>3</a>\u001b[0m file_name \u001b[39m=\u001b[39m \u001b[39m'\u001b[39m\u001b[39mseoul_bus.csv\u001b[39m\u001b[39m'\u001b[39m\n\u001b[0;32m      <a href='vscode-notebook-cell:/c%3A/Repository/StudyPython_Kasan/Day3/%EC%9E%85%EC%B6%9C%EB%A0%A5.ipynb#ch0000017?line=3'>4</a>\u001b[0m dir_name \u001b[39m=\u001b[39m \u001b[39m'\u001b[39m\u001b[39mC:/Repository/StudyPython_Kasan/Day3/\u001b[39m\u001b[39m'\u001b[39m\n\u001b[1;32m----> <a href='vscode-notebook-cell:/c%3A/Repository/StudyPython_Kasan/Day3/%EC%9E%85%EC%B6%9C%EB%A0%A5.ipynb#ch0000017?line=5'>6</a>\u001b[0m f \u001b[39m=\u001b[39m \u001b[39mopen\u001b[39;49m(\u001b[39mf\u001b[39;49m\u001b[39m'\u001b[39;49m\u001b[39m{\u001b[39;49;00mdir_name\u001b[39m}\u001b[39;49;00m\u001b[39m+\u001b[39;49m\u001b[39m{\u001b[39;49;00mfile_name\u001b[39m}\u001b[39;49;00m\u001b[39m'\u001b[39;49m, mode\u001b[39m=\u001b[39;49m\u001b[39m'\u001b[39;49m\u001b[39mr\u001b[39;49m\u001b[39m'\u001b[39;49m, encoding\u001b[39m=\u001b[39;49m\u001b[39m'\u001b[39;49m\u001b[39mutf-8\u001b[39;49m\u001b[39m'\u001b[39;49m)\n\u001b[0;32m      <a href='vscode-notebook-cell:/c%3A/Repository/StudyPython_Kasan/Day3/%EC%9E%85%EC%B6%9C%EB%A0%A5.ipynb#ch0000017?line=7'>8</a>\u001b[0m reader \u001b[39m=\u001b[39m csv\u001b[39m.\u001b[39mreader(f,delimiter\u001b[39m=\u001b[39m\u001b[39m'\u001b[39m\u001b[39m,\u001b[39m\u001b[39m'\u001b[39m) \u001b[39m#구분자, \u001b[39;00m\n\u001b[0;32m      <a href='vscode-notebook-cell:/c%3A/Repository/StudyPython_Kasan/Day3/%EC%9E%85%EC%B6%9C%EB%A0%A5.ipynb#ch0000017?line=8'>9</a>\u001b[0m \u001b[39m#next(reader)\u001b[39;00m\n",
      "\u001b[1;31mFileNotFoundError\u001b[0m: [Errno 2] No such file or directory: 'C:/Repository/StudyPython_Kasan/Day3/+seoul_bus.csv'"
     ]
    }
   ],
   "source": [
    "import csv # csv 모듈 추가\n",
    "\n",
    "file_name = 'seoul_bus.csv'\n",
    "dir_name = 'C:/Repository/StudyPython_Kasan/Day3/'\n",
    "\n",
    "f = open(f'{dir_name}+{file_name}', mode='r', encoding='utf-8')\n",
    "\n",
    "reader = csv.reader(f,delimiter=',') #구분자, \n",
    "#next(reader)\n",
    "for line in reader:\n",
    "    print(line)\n",
    "\n",
    "f.close()"
   ]
  }
 ],
 "metadata": {
  "interpreter": {
   "hash": "26de051ba29f2982a8de78e945f0abaf191376122a1563185a90213a26c5da77"
  },
  "kernelspec": {
   "display_name": "Python 3.10.4 64-bit",
   "language": "python",
   "name": "python3"
  },
  "language_info": {
   "codemirror_mode": {
    "name": "ipython",
    "version": 3
   },
   "file_extension": ".py",
   "mimetype": "text/x-python",
   "name": "python",
   "nbconvert_exporter": "python",
   "pygments_lexer": "ipython3",
   "version": "3.10.4"
  },
  "orig_nbformat": 4
 },
 "nbformat": 4,
 "nbformat_minor": 2
}
