{
 "cells": [
  {
   "cell_type": "markdown",
   "metadata": {},
   "source": [
    "# 점심메뉴 골라보기"
   ]
  },
  {
   "cell_type": "code",
   "execution_count": null,
   "metadata": {},
   "outputs": [],
   "source": [
    "import os \n",
    "class lunch:\n",
    "    name=''\n",
    " #생성자\n",
    "    def __inti__(self, name) -> None: #__inti__ : intiinative 처음의 adj\n",
    "        self.name = name\n",
    "\n",
    "    def __str__(self) -> str:\n",
    "        res_str = f'이름 : {self.name}\\n'\n",
    "        '==============================='\n",
    "        return res_str\n",
    "    \n",
    "    def isNameExist(self, name) -> bool:\n",
    "        if self.name == name :\n",
    "            return True\n",
    "        else:\n",
    "            return False\n",
    "    dir_name = \"C:/Repository/StudyPython_Kasan/Day4/\"\n",
    "\n",
    "    #파일 저장함수\n",
    "    def savelunch(lunch):\n",
    "        #d여기에 저장하는 경로 설정해 줄것\n",
    "        f = open(f'{dir_name}lunch.txt', mode='w', encoding='utf-8')\n",
    "        for item in lunch:\n",
    "\n",
    "\n",
    "\n"
   ]
  }
 ],
 "metadata": {
  "language_info": {
   "name": "python"
  },
  "orig_nbformat": 4
 },
 "nbformat": 4,
 "nbformat_minor": 2
}
