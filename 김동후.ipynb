{
 "cells": [
  {
   "cell_type": "markdown",
   "metadata": {},
   "source": [
    "## 1번 문제"
   ]
  },
  {
   "cell_type": "code",
   "execution_count": 1,
   "metadata": {},
   "outputs": [
    {
     "name": "stdout",
     "output_type": "stream",
     "text": [
      "반지름 5인 원의 넓이는 78.53981633974483입니다\n"
     ]
    }
   ],
   "source": [
    "# 1번 문제 \n",
    "import math\n",
    "\n",
    "radius = int(input('반지름을 입력하세요'))\n",
    "res = radius * radius * math.pi\n",
    "\n",
    "print(f'반지름 {radius}인 원의 넓이는 {res}입니다')"
   ]
  },
  {
   "cell_type": "markdown",
   "metadata": {},
   "source": [
    "## 2번 문제"
   ]
  },
  {
   "cell_type": "code",
   "execution_count": 5,
   "metadata": {},
   "outputs": [
    {
     "name": "stdout",
     "output_type": "stream",
     "text": [
      "수성의 영어행성명은 Mercury\n"
     ]
    },
    {
     "ename": "KeyError",
     "evalue": "''",
     "output_type": "error",
     "traceback": [
      "\u001b[1;31m---------------------------------------------------------------------------\u001b[0m",
      "\u001b[1;31mKeyError\u001b[0m                                  Traceback (most recent call last)",
      "\u001b[1;32mc:\\Repository\\StudyPython_Kasan\\Coding_Test.ipynb Cell 4'\u001b[0m in \u001b[0;36m<cell line: 5>\u001b[1;34m()\u001b[0m\n\u001b[0;32m      <a href='vscode-notebook-cell:/c%3A/Repository/StudyPython_Kasan/Coding_Test.ipynb#ch0000006?line=6'>7</a>\u001b[0m     \u001b[39mif\u001b[39;00m kor_name \u001b[39m==\u001b[39m \u001b[39m'\u001b[39m\u001b[39mq\u001b[39m\u001b[39m'\u001b[39m: \u001b[39mbreak\u001b[39;00m\n\u001b[0;32m      <a href='vscode-notebook-cell:/c%3A/Repository/StudyPython_Kasan/Coding_Test.ipynb#ch0000006?line=7'>8</a>\u001b[0m     \u001b[39melse\u001b[39;00m:\n\u001b[1;32m----> <a href='vscode-notebook-cell:/c%3A/Repository/StudyPython_Kasan/Coding_Test.ipynb#ch0000006?line=8'>9</a>\u001b[0m         \u001b[39mprint\u001b[39m(\u001b[39mf\u001b[39m\u001b[39m'\u001b[39m\u001b[39m{\u001b[39;00mkor_name\u001b[39m}\u001b[39;00m\u001b[39m의 영어행성명은 \u001b[39m\u001b[39m{\u001b[39;00msolar_sys[kor_name]\u001b[39m}\u001b[39;00m\u001b[39m'\u001b[39m)\n\u001b[0;32m     <a href='vscode-notebook-cell:/c%3A/Repository/StudyPython_Kasan/Coding_Test.ipynb#ch0000006?line=9'>10</a>\u001b[0m \u001b[39mprint\u001b[39m(solar_sys[kor_name])\n",
      "\u001b[1;31mKeyError\u001b[0m: ''"
     ]
    }
   ],
   "source": [
    "#2번 문제 \n",
    "solar_sys = {'수성': 'Mercury', '금성' : 'Venus', '지구' : 'Earth', '화성' : 'Mars',\n",
    "             '목성': 'Jupiter', '토성' : 'Saturn', '천왕성': 'Uranus', '혜왕성': 'Neptune'}\n",
    "\n",
    "while True:\n",
    "    kor_name = input('한글 행성명을 입력하세요 > ')\n",
    "    if kor_name == 'q': break\n",
    "    else:\n",
    "        print(f'{kor_name}의 영어행성명은 {solar_sys[kor_name]}')\n",
    "print(solar_sys[kor_name]) "
   ]
  },
  {
   "cell_type": "markdown",
   "metadata": {},
   "source": [
    "## 3번 문제"
   ]
  },
  {
   "cell_type": "code",
   "execution_count": 29,
   "metadata": {},
   "outputs": [
    {
     "ename": "TypeError",
     "evalue": "object of type 'builtin_function_or_method' has no len()",
     "output_type": "error",
     "traceback": [
      "\u001b[1;31m---------------------------------------------------------------------------\u001b[0m",
      "\u001b[1;31mTypeError\u001b[0m                                 Traceback (most recent call last)",
      "Input \u001b[1;32mIn [29]\u001b[0m, in \u001b[0;36m<cell line: 8>\u001b[1;34m()\u001b[0m\n\u001b[0;32m      5\u001b[0m text \u001b[39m=\u001b[39m \u001b[39minput\u001b[39m()\n\u001b[0;32m      6\u001b[0m words \u001b[39m=\u001b[39m text\u001b[39m.\u001b[39msplit\n\u001b[1;32m----> 8\u001b[0m \u001b[39mif\u001b[39;00m(\u001b[39mlen\u001b[39;49m(words) \u001b[39m<\u001b[39m n ):\n\u001b[0;32m      9\u001b[0m     \u001b[39mprint\u001b[39m(\u001b[39m'\u001b[39m\u001b[39mwrong\u001b[39m\u001b[39m'\u001b[39m)\n\u001b[0;32m     10\u001b[0m \u001b[39melse\u001b[39;00m:\n",
      "\u001b[1;31mTypeError\u001b[0m: object of type 'builtin_function_or_method' has no len()"
     ]
    }
   ],
   "source": [
    "#3번 문제 \n",
    "#입력한 한글 문자열의 단어의 수를 출력하는 프로그램을 구현하세요.\n",
    "\n",
    "n = input()\n",
    "text = input()\n",
    "words = text.split\n",
    "\n",
    "if(len(words) < n ):\n",
    "    print('wrong')\n",
    "else:\n",
    "    for i in range(len(words)):\n",
    "        for j in range(n):\n",
    "            print(words[i + j], end='')\n",
    "        print()\n",
    "    \n"
   ]
  },
  {
   "cell_type": "code",
   "execution_count": 20,
   "metadata": {},
   "outputs": [
    {
     "name": "stdout",
     "output_type": "stream",
     "text": [
      "9\n"
     ]
    }
   ],
   "source": [
    "#입력받기\n",
    "txt = input('한글을 쓰도록')\n",
    "\n",
    "# 문자열 단어 수 세기\n",
    "print(len(txt))"
   ]
  },
  {
   "cell_type": "code",
   "execution_count": null,
   "metadata": {},
   "outputs": [],
   "source": [
    "#답안\n",
    "in_str = input('한글을 입력하세요').split('')\n",
    "print(f'입력한 단어의 수는 {len(in_str)}개 입니다')"
   ]
  },
  {
   "cell_type": "markdown",
   "metadata": {},
   "source": [
    "## 4번 문제"
   ]
  },
  {
   "cell_type": "code",
   "execution_count": 36,
   "metadata": {},
   "outputs": [
    {
     "ename": "TypeError",
     "evalue": "'str' object is not callable",
     "output_type": "error",
     "traceback": [
      "\u001b[1;31m---------------------------------------------------------------------------\u001b[0m",
      "\u001b[1;31mTypeError\u001b[0m                                 Traceback (most recent call last)",
      "Input \u001b[1;32mIn [36]\u001b[0m, in \u001b[0;36m<cell line: 3>\u001b[1;34m()\u001b[0m\n\u001b[0;32m      1\u001b[0m \u001b[39m#4번 문제_ 입력한 수를 거꾸로 출력하는 프로그램\u001b[39;00m\n\u001b[1;32m----> 3\u001b[0m a \u001b[39m=\u001b[39m \u001b[39mint\u001b[39;49m(\u001b[39minput\u001b[39;49m())\n\u001b[0;32m      4\u001b[0m \u001b[39mprint\u001b[39m(\u001b[39mf\u001b[39m\u001b[39m'\u001b[39m\u001b[39ma : \u001b[39m\u001b[39m{\u001b[39;00m\u001b[39mint\u001b[39m(\u001b[39minput\u001b[39m)\u001b[39m}\u001b[39;00m\u001b[39m'\u001b[39m)\n\u001b[0;32m      5\u001b[0m name_list \u001b[39m=\u001b[39m \u001b[39mlist\u001b[39m(a)\n",
      "\u001b[1;31mTypeError\u001b[0m: 'str' object is not callable"
     ]
    }
   ],
   "source": [
    "#4번 문제_ 입력한 수를 거꾸로 출력하는 프로그램\n",
    "\n",
    "a = int(input())\n",
    "print(f'a : {int(input)}')\n",
    "name_list = list(a)\n",
    "print(f'name_list : {name_list}')\n",
    "name_list.reverse()\n",
    "print(f'name_list : {name_list}')\n",
    "name2 = ''.join(name_list)\n",
    "print(f'name2 : {name2}')"
   ]
  },
  {
   "cell_type": "code",
   "execution_count": 16,
   "metadata": {},
   "outputs": [
    {
     "name": "stdout",
     "output_type": "stream",
     "text": [
      "Original number: 234\n",
      "Reversed number: 432\n"
     ]
    }
   ],
   "source": [
    "#4번 문제_ 입력한 수를 거꾸로 출력하는 프로그램\n",
    "\n",
    "number =input()\n",
    "#reversed_number = list(reversed(number))\n",
    "reversed_number = number[::-1]\n",
    "\n",
    "print(f'Original number: {number}')\n",
    "print(f'Reversed number: {reversed_number}')\n"
   ]
  },
  {
   "cell_type": "code",
   "execution_count": 25,
   "metadata": {},
   "outputs": [
    {
     "ename": "ValueError",
     "evalue": "invalid literal for int() with base 10: '거꾸로 출력할 수를 입력하세요 > '",
     "output_type": "error",
     "traceback": [
      "\u001b[1;31m---------------------------------------------------------------------------\u001b[0m",
      "\u001b[1;31mValueError\u001b[0m                                Traceback (most recent call last)",
      "\u001b[1;32mc:\\Repository\\StudyPython_Kasan\\김동후.ipynb Cell 12'\u001b[0m in \u001b[0;36m<cell line: 2>\u001b[1;34m()\u001b[0m\n\u001b[0;32m      <a href='vscode-notebook-cell:/c%3A/Repository/StudyPython_Kasan/%EA%B9%80%EB%8F%99%ED%9B%84.ipynb#ch0000014?line=0'>1</a>\u001b[0m \u001b[39m#4번 문제 답\u001b[39;00m\n\u001b[1;32m----> <a href='vscode-notebook-cell:/c%3A/Repository/StudyPython_Kasan/%EA%B9%80%EB%8F%99%ED%9B%84.ipynb#ch0000014?line=1'>2</a>\u001b[0m in_num \u001b[39m=\u001b[39m \u001b[39mint\u001b[39;49m(\u001b[39m'\u001b[39;49m\u001b[39m거꾸로 출력할 수를 입력하세요 > \u001b[39;49m\u001b[39m'\u001b[39;49m)\u001b[39m.\u001b[39msplit(\u001b[39m'\u001b[39m\u001b[39m'\u001b[39m)\n\u001b[0;32m      <a href='vscode-notebook-cell:/c%3A/Repository/StudyPython_Kasan/%EA%B9%80%EB%8F%99%ED%9B%84.ipynb#ch0000014?line=2'>3</a>\u001b[0m numbers \u001b[39m=\u001b[39m \u001b[39mlist\u001b[39m(in_num)\n\u001b[0;32m      <a href='vscode-notebook-cell:/c%3A/Repository/StudyPython_Kasan/%EA%B9%80%EB%8F%99%ED%9B%84.ipynb#ch0000014?line=3'>4</a>\u001b[0m numbers\u001b[39m.\u001b[39mreverse()\n",
      "\u001b[1;31mValueError\u001b[0m: invalid literal for int() with base 10: '거꾸로 출력할 수를 입력하세요 > '"
     ]
    }
   ],
   "source": [
    "#4번 문제 답\n",
    "in_num = input('거꾸로 출력할 수를 입력하세요 > ').split('')\n",
    "numbers = list(in_num)\n",
    "numbers.reverse()\n",
    "\n",
    "print(f'{in_num} --> {numbers}')\n",
    "\n",
    "for i in in_num:\n",
    "    print(i, end='')\n",
    "    "
   ]
  },
  {
   "cell_type": "markdown",
   "metadata": {},
   "source": [
    "## 5번 문제"
   ]
  },
  {
   "cell_type": "code",
   "execution_count": 15,
   "metadata": {},
   "outputs": [
    {
     "name": "stdout",
     "output_type": "stream",
     "text": [
      "4 * 1 = 4\n",
      "4 * 2 = 8\n",
      "4 * 3 = 12\n",
      "4 * 4 = 16\n",
      "4 * 5 = 20\n",
      "4 * 6 = 24\n",
      "4 * 7 = 28\n",
      "4 * 8 = 32\n",
      "4 * 9 = 36\n"
     ]
    }
   ],
   "source": [
    "#구구단을 수행할 단번호를 입력하면 그 단의 9까지의 결과를 나열하는 프로그램\n",
    "\n",
    "n2 = input()\n",
    "for i in range(1,10):\n",
    "    print(f'{n2} * {i} = {int(n2)*i}')"
   ]
  },
  {
   "cell_type": "code",
   "execution_count": 13,
   "metadata": {},
   "outputs": [
    {
     "name": "stdout",
     "output_type": "stream",
     "text": [
      "4 --> 4 8 12 16 20 24 28 32 36 "
     ]
    }
   ],
   "source": [
    "#구구단을 수행할 단번호를 입력하면 그 단의 9까지의 결과를 나열하는 프로그램\n",
    "\n",
    "Num = input()\n",
    "print(f'{Num} -->',end=\" \")\n",
    "for i in range(1,10):\n",
    "    print(f'{int(Num) * i}', end=\" \")"
   ]
  }
 ],
 "metadata": {
  "interpreter": {
   "hash": "26de051ba29f2982a8de78e945f0abaf191376122a1563185a90213a26c5da77"
  },
  "kernelspec": {
   "display_name": "Python 3.10.4 64-bit",
   "language": "python",
   "name": "python3"
  },
  "language_info": {
   "codemirror_mode": {
    "name": "ipython",
    "version": 3
   },
   "file_extension": ".py",
   "mimetype": "text/x-python",
   "name": "python",
   "nbconvert_exporter": "python",
   "pygments_lexer": "ipython3",
   "version": "3.10.4"
  },
  "orig_nbformat": 4
 },
 "nbformat": 4,
 "nbformat_minor": 2
}
