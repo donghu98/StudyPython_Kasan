{
 "cells": [
  {
   "cell_type": "markdown",
   "metadata": {},
   "source": [
    "# 함수"
   ]
  },
  {
   "cell_type": "markdown",
   "metadata": {},
   "source": [
    "1. 함수정의"
   ]
  },
  {
   "cell_type": "code",
   "execution_count": 18,
   "metadata": {},
   "outputs": [],
   "source": [
    "def add(x, y):  #매개변수를 지정할 때는 항상 뒤에서부터 해줘야함 앞에서 지정하는 것은 문법에 어긋남\n",
    "    result = 0\n",
    "    result = x + y\n",
    "    return result # 설정된 로직을 통해 값을 만들어서 호출(되돌려주는)해주는 함수\n",
    "\n",
    "def print_add(x,y):  #이게 존재해야 아래에서 계산해서 출력값을 낼 수 있다 (로직-묵--직)\n",
    "    print(x +y)\n",
    "\n",
    "def print_hello():\n",
    "    print('hello, world!')\n",
    "\n",
    "def ret_hello():\n",
    "    return 'hello'\n",
    "\n",
    "#  함수 종류 4개가 있다 위에 있음 해석해볼 것\n",
    "#  상당히 중요하다 함수란 변수를 정확하게 이해하는 것이 "
   ]
  },
  {
   "cell_type": "code",
   "execution_count": 21,
   "metadata": {},
   "outputs": [
    {
     "name": "stdout",
     "output_type": "stream",
     "text": [
      "hello My friend\n",
      "hello, world!\n",
      "2.302585092994046\n",
      "11\n",
      "12\n"
     ]
    }
   ],
   "source": [
    "import math\n",
    "\n",
    "val = ret_hello()\n",
    "print(val, 'My friend')\n",
    "print_hello()\n",
    "\n",
    "res = math.log(10)\n",
    "print(res)\n",
    "\n",
    "add_res = add(7,4) #add_res 여기서 res는 result의 단축어 \n",
    "print(add_res)\n",
    "\n",
    "print_add(7,5)"
   ]
  },
  {
   "cell_type": "code",
   "execution_count": 25,
   "metadata": {},
   "outputs": [
    {
     "ename": "SyntaxError",
     "evalue": "invalid syntax. Perhaps you forgot a comma? (3808647895.py, line 1)",
     "output_type": "error",
     "traceback": [
      "\u001b[1;36m  Input \u001b[1;32mIn [25]\u001b[1;36m\u001b[0m\n\u001b[1;33m    res = add(y=6 x=7)\u001b[0m\n\u001b[1;37m                ^\u001b[0m\n\u001b[1;31mSyntaxError\u001b[0m\u001b[1;31m:\u001b[0m invalid syntax. Perhaps you forgot a comma?\n"
     ]
    }
   ],
   "source": [
    "res = add(y=6 x=7)\n",
    "print(res)"
   ]
  },
  {
   "cell_type": "code",
   "execution_count": 27,
   "metadata": {},
   "outputs": [],
   "source": [
    "#매개변수가 가변일때\n",
    "def adds(*args):\n",
    "    res = 0\n",
    "    \n",
    "    for i in args:\n",
    "        res += i\n",
    "    return res\n"
   ]
  },
  {
   "cell_type": "code",
   "execution_count": 30,
   "metadata": {},
   "outputs": [
    {
     "name": "stdout",
     "output_type": "stream",
     "text": [
      "21\n",
      "55\n"
     ]
    }
   ],
   "source": [
    "print(adds(1,2,3,4,5,6,))\n",
    "print(adds(1,2,3,4,5,6,7,8,9,10))"
   ]
  },
  {
   "cell_type": "code",
   "execution_count": 35,
   "metadata": {},
   "outputs": [],
   "source": [
    "def mul_and_add(x, y):\n",
    "    res_mul = x * y\n",
    "    res_add = x + y\n",
    "\n",
    "    return(res_mul, res_add) #tuple 형식으로 리턴"
   ]
  },
  {
   "cell_type": "code",
   "execution_count": 36,
   "metadata": {},
   "outputs": [
    {
     "name": "stdout",
     "output_type": "stream",
     "text": [
      "72\n",
      "17\n"
     ]
    }
   ],
   "source": [
    "(res1, res2) = mul_and_add(8,9)\n",
    "print(res1)\n",
    "print(res2)"
   ]
  },
  {
   "cell_type": "code",
   "execution_count": 40,
   "metadata": {},
   "outputs": [],
   "source": [
    "def all_calc(*args):\n",
    "    res_mul = 1\n",
    "    res_add = 0\n",
    "    res_div = 1\n",
    "    res_sub = 0\n",
    "    for i in args:\n",
    "        res_mul *= i\n",
    "        res_add += i\n",
    "        last_num = i\n",
    "    res_div = res_mul / last_num\n",
    "    res_sub = res_add - last_num\n",
    "\n",
    "    return(res_add, res_sub, res_mul, res_div)\n"
   ]
  },
  {
   "cell_type": "code",
   "execution_count": 41,
   "metadata": {},
   "outputs": [
    {
     "name": "stdout",
     "output_type": "stream",
     "text": [
      "55\n",
      "45\n",
      "3628800\n",
      "362880.0\n"
     ]
    }
   ],
   "source": [
    "(res1, res2, res3, res4) = all_calc(1,2,3,4,5,6,7,8,9,10)\n",
    "print(res1)\n",
    "print(res2)\n",
    "print(res3)\n",
    "print(res4)\n"
   ]
  },
  {
   "cell_type": "markdown",
   "metadata": {},
   "source": [
    "****************************************\n",
    "1. 매개변수가 없고, 리턴문이 없는 경우\n",
    "2. 매개변수가 없고, 리턴문은 있는 경우\n",
    "3. 매개변수가 있고, 리턴문이 없는 경우\n",
    "4. 매개변수가 있고, 리턴문이 있는 경우\n",
    "5. 매개변수의 갯수가 가변인 경우\n",
    "6. 리턴되는 결과가 1건 이상인 경우 \n",
    "*****************************************"
   ]
  },
  {
   "cell_type": "markdown",
   "metadata": {},
   "source": [
    "## 2. 함수와 변수의 라이프스코프"
   ]
  },
  {
   "cell_type": "code",
   "execution_count": 44,
   "metadata": {},
   "outputs": [
    {
     "name": "stdout",
     "output_type": "stream",
     "text": [
      "2\n"
     ]
    }
   ],
   "source": [
    "a = 1 #전역변수 지금이 그물안에서 다 사용하는 \n",
    "\n",
    "def vartest(a): #위에 있는 a와 완전 다른 종류임!!\n",
    "    a += 1      # 이 지역에서만 사용할 수 있는 \" 지역변수 \"\"\n",
    "    return a   # a는 없어짐\n",
    "\n",
    "a = vartest(a) #여기있는 a는 전역변수 ( 맨 위에있는 )\n",
    "print(a)\n"
   ]
  },
  {
   "cell_type": "code",
   "execution_count": 53,
   "metadata": {},
   "outputs": [
    {
     "ename": "SyntaxError",
     "evalue": "name 'b' is parameter and global (2656472984.py, line 4)",
     "output_type": "error",
     "traceback": [
      "\u001b[1;36m  Input \u001b[1;32mIn [53]\u001b[1;36m\u001b[0m\n\u001b[1;33m    global b\u001b[0m\n\u001b[1;37m    ^\u001b[0m\n\u001b[1;31mSyntaxError\u001b[0m\u001b[1;31m:\u001b[0m name 'b' is parameter and global\n"
     ]
    }
   ],
   "source": [
    "b = 1 \n",
    "\n",
    "def vartest(b): \n",
    "    global b #전역변수를 함수내에서 사용할래\n",
    "    b += 7\n",
    "\n",
    "vartestb ()\n",
    "print(b)"
   ]
  }
 ],
 "metadata": {
  "interpreter": {
   "hash": "26de051ba29f2982a8de78e945f0abaf191376122a1563185a90213a26c5da77"
  },
  "kernelspec": {
   "display_name": "Python 3.10.4 64-bit",
   "language": "python",
   "name": "python3"
  },
  "language_info": {
   "codemirror_mode": {
    "name": "ipython",
    "version": 3
   },
   "file_extension": ".py",
   "mimetype": "text/x-python",
   "name": "python",
   "nbconvert_exporter": "python",
   "pygments_lexer": "ipython3",
   "version": "3.10.4"
  },
  "orig_nbformat": 4
 },
 "nbformat": 4,
 "nbformat_minor": 2
}
