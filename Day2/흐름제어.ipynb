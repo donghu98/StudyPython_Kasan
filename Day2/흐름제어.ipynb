{
 "cells": [
  {
   "cell_type": "markdown",
   "metadata": {},
   "source": [
    "# 흐름제어\n",
    "1. if문\n",
    "\n",
    "들여쓰기(탭, 공백), 구문 내용없을때 pass"
   ]
  },
  {
   "cell_type": "code",
   "execution_count": 3,
   "metadata": {},
   "outputs": [
    {
     "name": "stdout",
     "output_type": "stream",
     "text": [
      "진료실로 들어갑니다\n"
     ]
    }
   ],
   "source": [
    "name = '동후'\n",
    "\n",
    "if name == '동후':    # 참인 경우   #반드시 문장에 끝에  \" : \" 붙여줘야함\n",
    "    print('진료실로 들어갑니다')\n",
    "else:                 #거짓일 경우\n",
    "    print('대기합니다')"
   ]
  },
  {
   "cell_type": "code",
   "execution_count": 6,
   "metadata": {},
   "outputs": [
    {
     "name": "stdout",
     "output_type": "stream",
     "text": [
      "동후,진료실로 들어갑니다\n"
     ]
    }
   ],
   "source": [
    "name = '동후'\n",
    "\n",
    "if name == '동후':    \n",
    "    print(f'{name},진료실로 들어갑니다')\n",
    "elif name == '길동' :\n",
    "    print(f'{name}이도 진료실로 들어갑니다')\n",
    "else:                \n",
    "    print('대기합니다')"
   ]
  },
  {
   "cell_type": "code",
   "execution_count": 17,
   "metadata": {},
   "outputs": [
    {
     "name": "stdout",
     "output_type": "stream",
     "text": [
      "순대국 먹으러 갑니다\n"
     ]
    }
   ],
   "source": [
    "name = '동후'\n",
    "gender = '남자'\n",
    "\n",
    "if name == '동후' and gender == '남자':\n",
    "    print('순대국 먹으러 갑니다')\n",
    "elif name =='채모':\n",
    "    print('놀러 갑니다')\n",
    "elif name =='다예':\n",
    "    print('병원 갑니다')\n",
    "else:\n",
    "    print('대기합니다')"
   ]
  },
  {
   "cell_type": "code",
   "execution_count": 16,
   "metadata": {},
   "outputs": [
    {
     "name": "stdout",
     "output_type": "stream",
     "text": [
      "없습니다\n"
     ]
    }
   ],
   "source": [
    "arr = [1,3,5,7,9]\n",
    "x = 2\n",
    "\n",
    "if(x in arr):\n",
    "    print('있습니다')\n",
    "else:\n",
    "    print('없습니다')"
   ]
  },
  {
   "cell_type": "code",
   "execution_count": 21,
   "metadata": {},
   "outputs": [
    {
     "name": "stdout",
     "output_type": "stream",
     "text": [
      "27일날 서울로 내려옵니다\n"
     ]
    }
   ],
   "source": [
    "name = '석준'\n",
    "gender = '?'\n",
    "\n",
    "if name == '석준' :\n",
    "    if gender == '?':\n",
    "       print('27일날 서울로 내려옵니다')\n",
    "elif name =='기민':\n",
    "    print('퇴근하고 옵니다')\n",
    "elif name =='지환':\n",
    "    print('6시 이전에 올수도 있습니다')\n",
    "else:\n",
    "    print('태훈이 입니다')"
   ]
  },
  {
   "cell_type": "markdown",
   "metadata": {},
   "source": [
    "# for 문\n",
    " 프로그래밍의 자동화, 효율화와 가장 부합하는 흐름제어 문이 바로 for문입니다.\n",
    " for문은 리스트,튜플 등과 만나면 정말 강력한 능력을 발휘합니다"
   ]
  },
  {
   "cell_type": "code",
   "execution_count": 25,
   "metadata": {},
   "outputs": [
    {
     "name": "stdout",
     "output_type": "stream",
     "text": [
      "1.0\n",
      "2.0\n",
      "3.0\n",
      "4.0\n",
      "5.0\n",
      "5.0\n",
      "6.0\n",
      "7.0\n",
      "8.0\n",
      "9.0\n",
      "10.0\n",
      "60\n"
     ]
    }
   ],
   "source": [
    "arr = [1,2,3,4,5,5,6,7,8,9,10]\n",
    "\n",
    "for i in arr:\n",
    "    print(f'{i:0.1f}')\n",
    "\n",
    "sum = 0\n",
    "for i in arr:\n",
    "    sum = sum + i\n",
    "\n",
    "print(sum)"
   ]
  },
  {
   "cell_type": "code",
   "execution_count": 33,
   "metadata": {},
   "outputs": [
    {
     "name": "stdout",
     "output_type": "stream",
     "text": [
      "        Me\n",
      "        MY\n",
      "    Friend\n",
      "      jane\n"
     ]
    }
   ],
   "source": [
    "arr2 = ( 'Me','MY','Friend','jane' )\n",
    "\n",
    "for j in arr2:\n",
    "    print(f'{j:>10}')"
   ]
  },
  {
   "cell_type": "markdown",
   "metadata": {},
   "source": []
  },
  {
   "cell_type": "code",
   "execution_count": 39,
   "metadata": {},
   "outputs": [
    {
     "name": "stdout",
     "output_type": "stream",
     "text": [
      "[1, 3, 5, 7, 9, 11, 13, 15, 17, 19]\n",
      "20\n",
      "1번째 수는 1 입니다\n",
      "2번째 수는 3 입니다\n",
      "3번째 수는 5 입니다\n",
      "4번째 수는 7 입니다\n",
      "5번째 수는 9 입니다\n",
      "6번째 수는 11 입니다\n",
      "7번째 수는 13 입니다\n",
      "8번째 수는 15 입니다\n",
      "9번째 수는 17 입니다\n",
      "10번째 수는 19 입니다\n"
     ]
    }
   ],
   "source": [
    "vals = [i for i in range(1,20,2)]\n",
    "print(vals)\n",
    "\n",
    "num = 0\n",
    "print(item)\n",
    "for item in vals:\n",
    "    num += 1\n",
    "    print(f'{num}번째 수는 {item} 입니다')"
   ]
  },
  {
   "cell_type": "code",
   "execution_count": 40,
   "metadata": {},
   "outputs": [
    {
     "name": "stdout",
     "output_type": "stream",
     "text": [
      "[1, 2, 3, 4, 5, 6, 7, 8, 9, 10, 11, 12, 13, 14, 15, 16, 17, 18, 19, 20]\n",
      "1번째 수는 1입니다\n",
      "2번째 수는 3입니다\n",
      "3번째 수는 5입니다\n",
      "4번째 수는 7입니다\n",
      "5번째 수는 9입니다\n",
      "6번째 수는 11입니다\n",
      "7번째 수는 13입니다\n",
      "8번째 수는 15입니다\n",
      "9번째 수는 17입니다\n",
      "10번째 수는 19입니다\n"
     ]
    }
   ],
   "source": [
    "vals2 = [i for i in range(1, 21)]\n",
    "print(vals2)\n",
    "\n",
    "num = 0\n",
    "for item in vals2:\n",
    "    if item % 2 == 0: continue \n",
    "    # 1-> 1 그렇기에 num으로 넘어가서 2가 됨 2는 나머지가 0이므로 컨티뉴 이 동작 반복\n",
    "\n",
    "    num += 1\n",
    "    print(f'{num}번째 수는 {item}입니다')"
   ]
  },
  {
   "cell_type": "code",
   "execution_count": 44,
   "metadata": {},
   "outputs": [
    {
     "name": "stdout",
     "output_type": "stream",
     "text": [
      "[1, 2, 3, 4, 5, 6, 7, 8, 9, 10, 11, 12, 13, 14, 15, 16, 17, 18, 19, 20]\n",
      "1번째 수는 1입니다\n"
     ]
    }
   ],
   "source": [
    "vals2 = [i for i in range(1, 21)]\n",
    "print(vals2)\n",
    "\n",
    "num = 0\n",
    "for item in vals2:\n",
    "    if item % 2 == 0: \n",
    "        break\n",
    "\n",
    "    num += 1\n",
    "    print(f'{num}번째 수는 {item}입니다')"
   ]
  },
  {
   "cell_type": "code",
   "execution_count": 46,
   "metadata": {},
   "outputs": [
    {
     "name": "stdout",
     "output_type": "stream",
     "text": [
      "helloworld\n"
     ]
    }
   ],
   "source": [
    "print('hello', end='')\n",
    "print(\"world\")\n"
   ]
  },
  {
   "cell_type": "code",
   "execution_count": 58,
   "metadata": {},
   "outputs": [
    {
     "name": "stdout",
     "output_type": "stream",
     "text": [
      "2*1 =  2,2*2 =  4,2*3 =  6,2*4 =  8,2*5 = 10,2*6 = 12,2*7 = 14,2*8 = 16,2*9 = 18,\n",
      "3*1 =  3,3*2 =  6,3*3 =  9,3*4 = 12,3*5 = 15,3*6 = 18,3*7 = 21,3*8 = 24,3*9 = 27,"
     ]
    }
   ],
   "source": [
    "#구구단\n",
    "for i in range(1,10):\n",
    "    print(f'2*{i} = {2*i:>2}',end=',')\n",
    "\n",
    "print()\n",
    "\n",
    "for i in range(1,10):\n",
    "    print(f'3*{i} = {3*i:>2}',end=',')"
   ]
  },
  {
   "cell_type": "code",
   "execution_count": 59,
   "metadata": {},
   "outputs": [
    {
     "name": "stdout",
     "output_type": "stream",
     "text": [
      "구구단\n",
      "2단 시작 ~~ \n",
      "2 * 1 =  2,2 * 2 =  4,2 * 3 =  6,2 * 4 =  8,2 * 5 = 10,2 * 6 = 12,2 * 7 = 14,2 * 8 = 16,2 * 9 = 18,\n",
      "3단 시작 ~~ \n",
      "3 * 1 =  3,3 * 2 =  6,3 * 3 =  9,3 * 4 = 12,3 * 5 = 15,3 * 6 = 18,3 * 7 = 21,3 * 8 = 24,3 * 9 = 27,\n",
      "4단 시작 ~~ \n",
      "4 * 1 =  4,4 * 2 =  8,4 * 3 = 12,4 * 4 = 16,4 * 5 = 20,4 * 6 = 24,4 * 7 = 28,4 * 8 = 32,4 * 9 = 36,\n",
      "5단 시작 ~~ \n",
      "5 * 1 =  5,5 * 2 = 10,5 * 3 = 15,5 * 4 = 20,5 * 5 = 25,5 * 6 = 30,5 * 7 = 35,5 * 8 = 40,5 * 9 = 45,\n",
      "6단 시작 ~~ \n",
      "6 * 1 =  6,6 * 2 = 12,6 * 3 = 18,6 * 4 = 24,6 * 5 = 30,6 * 6 = 36,6 * 7 = 42,6 * 8 = 48,6 * 9 = 54,\n",
      "7단 시작 ~~ \n",
      "7 * 1 =  7,7 * 2 = 14,7 * 3 = 21,7 * 4 = 28,7 * 5 = 35,7 * 6 = 42,7 * 7 = 49,7 * 8 = 56,7 * 9 = 63,\n",
      "8단 시작 ~~ \n",
      "8 * 1 =  8,8 * 2 = 16,8 * 3 = 24,8 * 4 = 32,8 * 5 = 40,8 * 6 = 48,8 * 7 = 56,8 * 8 = 64,8 * 9 = 72,\n",
      "9단 시작 ~~ \n",
      "9 * 1 =  9,9 * 2 = 18,9 * 3 = 27,9 * 4 = 36,9 * 5 = 45,9 * 6 = 54,9 * 7 = 63,9 * 8 = 72,9 * 9 = 81,\n"
     ]
    }
   ],
   "source": [
    "#향상된 구구단\n",
    "print('구구단')\n",
    "for x in range(2,10):\n",
    "    print(f'{x}단 시작 ~~ ')\n",
    "    for y in range(1,10):\n",
    "        print(f'{x} * {y} = {x*y:>2}',end=',')\n",
    "    print()"
   ]
  },
  {
   "cell_type": "markdown",
   "metadata": {},
   "source": [
    "# while문 (for문으로 대체가능)\n"
   ]
  },
  {
   "cell_type": "code",
   "execution_count": 61,
   "metadata": {},
   "outputs": [
    {
     "ename": "KeyboardInterrupt",
     "evalue": "",
     "output_type": "error",
     "traceback": [
      "\u001b[1;31m---------------------------------------------------------------------------\u001b[0m",
      "\u001b[1;31mKeyboardInterrupt\u001b[0m                         Traceback (most recent call last)",
      "\u001b[1;32mc:\\Repository\\StudyPython_Kasan\\Day2\\흐름제어.ipynb Cell 18'\u001b[0m in \u001b[0;36m<cell line: 2>\u001b[1;34m()\u001b[0m\n\u001b[0;32m      <a href='vscode-notebook-cell:/c%3A/Repository/StudyPython_Kasan/Day2/%ED%9D%90%EB%A6%84%EC%A0%9C%EC%96%B4.ipynb#ch0000027?line=0'>1</a>\u001b[0m hit \u001b[39m=\u001b[39m \u001b[39m0\u001b[39m\n\u001b[1;32m----> <a href='vscode-notebook-cell:/c%3A/Repository/StudyPython_Kasan/Day2/%ED%9D%90%EB%A6%84%EC%A0%9C%EC%96%B4.ipynb#ch0000027?line=1'>2</a>\u001b[0m \u001b[39mwhile\u001b[39;00m hit \u001b[39m<\u001b[39;49m \u001b[39m100\u001b[39;49m:\n\u001b[0;32m      <a href='vscode-notebook-cell:/c%3A/Repository/StudyPython_Kasan/Day2/%ED%9D%90%EB%A6%84%EC%A0%9C%EC%96%B4.ipynb#ch0000027?line=2'>3</a>\u001b[0m     \u001b[39mpass\u001b[39;00m\n",
      "\u001b[1;31mKeyboardInterrupt\u001b[0m: "
     ]
    }
   ],
   "source": [
    "hit = 0\n",
    "while hit < 100:\n",
    "    pass  #인피니티문 = 무한대로 돌고있는 상황 "
   ]
  },
  {
   "cell_type": "code",
   "execution_count": 70,
   "metadata": {},
   "outputs": [
    {
     "name": "stdout",
     "output_type": "stream",
     "text": [
      " 나무를 1번 찍었습니다\n",
      " 나무를 2번 찍었습니다\n",
      " 나무를 3번 찍었습니다\n",
      " 나무를 4번 찍었습니다\n",
      " 나무를 5번 찍었습니다\n",
      " 나무를 6번 찍었습니다\n",
      " 나무를 7번 찍었습니다\n",
      " 나무를 8번 찍었습니다\n",
      " 나무를 9번 찍었습니다\n",
      " 나무를 10번 찍었습니다\n",
      "나무가 넘어갔습니다\n"
     ]
    }
   ],
   "source": [
    "hit = 0\n",
    "while hit < 10:\n",
    "    hit += 1\n",
    "\n",
    "    print(f' 나무를 {hit}번 찍었습니다')\n",
    "    \n",
    "    if (hit == 10):\n",
    "        print('나무가 넘어갔습니다')\n",
    "        break\n"
   ]
  },
  {
   "cell_type": "code",
   "execution_count": null,
   "metadata": {},
   "outputs": [],
   "source": [
    "#회원관리 프로젝트\n"
   ]
  },
  {
   "cell_type": "markdown",
   "metadata": {},
   "source": [
    "# 별표찍기"
   ]
  },
  {
   "cell_type": "code",
   "execution_count": 82,
   "metadata": {},
   "outputs": [
    {
     "name": "stdout",
     "output_type": "stream",
     "text": [
      "*****\n",
      "****\n",
      "***\n",
      "**\n",
      "*\n"
     ]
    }
   ],
   "source": [
    "#별표찍기 역직각삼각형\n",
    "for x in range(1,6):\n",
    "    for y in range(x,6):\n",
    "        print('*',end='')\n",
    "    print()\n",
    " \n"
   ]
  },
  {
   "cell_type": "code",
   "execution_count": 84,
   "metadata": {},
   "outputs": [
    {
     "name": "stdout",
     "output_type": "stream",
     "text": [
      "*\n",
      "**\n",
      "***\n",
      "****\n",
      "*****\n"
     ]
    }
   ],
   "source": [
    "for x in range(1,6):\n",
    "    for y in range(1,x+1):\n",
    "        print('*',end='')\n",
    "    print()\n",
    " "
   ]
  },
  {
   "cell_type": "code",
   "execution_count": 98,
   "metadata": {},
   "outputs": [
    {
     "name": "stdout",
     "output_type": "stream",
     "text": [
      "     *\n",
      "    ***\n",
      "   *****\n",
      "  *******\n",
      " *********\n"
     ]
    }
   ],
   "source": [
    "#피라미드 만들기 \n",
    "for x in range(1, 6):\n",
    "    for y in range(x, 6):\n",
    "        print(' ',end='')\n",
    "\n",
    "    for y in range(1,2*x):\n",
    "        print('*',end='')\n",
    "    print()"
   ]
  }
 ],
 "metadata": {
  "interpreter": {
   "hash": "26de051ba29f2982a8de78e945f0abaf191376122a1563185a90213a26c5da77"
  },
  "kernelspec": {
   "display_name": "Python 3.10.4 64-bit",
   "language": "python",
   "name": "python3"
  },
  "language_info": {
   "codemirror_mode": {
    "name": "ipython",
    "version": 3
   },
   "file_extension": ".py",
   "mimetype": "text/x-python",
   "name": "python",
   "nbconvert_exporter": "python",
   "pygments_lexer": "ipython3",
   "version": "3.10.4"
  },
  "orig_nbformat": 4
 },
 "nbformat": 4,
 "nbformat_minor": 2
}
