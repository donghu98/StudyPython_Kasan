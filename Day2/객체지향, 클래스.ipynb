{
 "cells": [
  {
   "cell_type": "markdown",
   "metadata": {},
   "source": [
    "# 객체지향, 클래스"
   ]
  },
  {
   "cell_type": "markdown",
   "metadata": {},
   "source": [
    "1. 객체지향 개념\n",
    "명사(속성 -> 속성변수) 와 동사(행위 -> 함수)의 조합"
   ]
  },
  {
   "cell_type": "code",
   "execution_count": 57,
   "metadata": {},
   "outputs": [],
   "source": [
    "class Person:\n",
    "    name = ''\n",
    "    age = 0\n",
    "\n",
    "    def __init__(self):  #내가 직접 창조해서 쓰겠다 \n",
    "        print('person생성!!')\n",
    "\n",
    "    def print_name(self):\n",
    "        print(f'제 이름은 {self.name}입니다')\n",
    "\n",
    "    def get_age(self):\n",
    "        return self.age"
   ]
  },
  {
   "cell_type": "code",
   "execution_count": 58,
   "metadata": {},
   "outputs": [
    {
     "name": "stdout",
     "output_type": "stream",
     "text": [
      "person생성!!\n",
      "<__main__.Person object at 0x00000277694532E0>\n"
     ]
    }
   ],
   "source": [
    "me = Person() #생성자 \n",
    "print(me)"
   ]
  },
  {
   "cell_type": "code",
   "execution_count": 54,
   "metadata": {},
   "outputs": [
    {
     "name": "stdout",
     "output_type": "stream",
     "text": [
      "김동후\n",
      "제 이름은 김동후입니다\n",
      "김동후 나이는 25 세\n"
     ]
    }
   ],
   "source": [
    "me.name = '김동후'\n",
    "print(me.name)\n",
    "me.print_name()\n",
    "me.age = 25\n",
    "dongs_age = me.get_age()\n",
    "print(me.name, '나이는',dongs_age,'세')"
   ]
  },
  {
   "cell_type": "code",
   "execution_count": 92,
   "metadata": {},
   "outputs": [],
   "source": [
    "#생성자 수정 클래스 Person2\n",
    "class Person2:\n",
    "    name = ''\n",
    "    age = 0\n",
    "\n",
    "    def __init__(self,name,age):  #생성자 \n",
    "        print('person2생성!!')\n",
    "        self.name = name\n",
    "        self.age = age\n",
    "\n",
    "    def __str__(self): #print를 변경해주는 매직메서드\n",
    "        return f'이름: {self.name}, 나이:{self.age}'\n",
    "    \n",
    "\n",
    "\n",
    "    def print_name(self):\n",
    "        print(f'제 이름은 {self.name}입니다')\n",
    "\n",
    "    def print_age(self):\n",
    "        print(f'제 나이는 {self.age}입니다')"
   ]
  },
  {
   "cell_type": "code",
   "execution_count": 93,
   "metadata": {},
   "outputs": [
    {
     "name": "stdout",
     "output_type": "stream",
     "text": [
      "person2생성!!\n",
      "제 이름은 선석준입니다\n",
      "제 나이는 25입니다\n",
      "이름: 선석준, 나이:25\n"
     ]
    }
   ],
   "source": [
    "you = Person2('선석준', 25)\n",
    "you.print_name()\n",
    "you.print_age()\n",
    "\n",
    "print(you)"
   ]
  }
 ],
 "metadata": {
  "interpreter": {
   "hash": "26de051ba29f2982a8de78e945f0abaf191376122a1563185a90213a26c5da77"
  },
  "kernelspec": {
   "display_name": "Python 3.10.4 64-bit",
   "language": "python",
   "name": "python3"
  },
  "language_info": {
   "codemirror_mode": {
    "name": "ipython",
    "version": 3
   },
   "file_extension": ".py",
   "mimetype": "text/x-python",
   "name": "python",
   "nbconvert_exporter": "python",
   "pygments_lexer": "ipython3",
   "version": "3.10.4"
  },
  "orig_nbformat": 4
 },
 "nbformat": 4,
 "nbformat_minor": 2
}
